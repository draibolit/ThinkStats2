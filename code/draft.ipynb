{
 "cells": [
  {
   "cell_type": "code",
   "execution_count": 1,
   "metadata": {},
   "outputs": [
    {
     "name": "stdout",
     "output_type": "stream",
     "text": [
      "Experiment 1\n",
      "mean error xbar 0.0009731646745573737\n",
      "mean error median 0.0009977514720499038\n",
      "Experiment 2\n",
      "RMSE biased 0.5160608912798944\n",
      "RMSE unbiased 0.57826602081194\n",
      "Experiment 3\n",
      "standard error 0.8967179115445979\n",
      "confidence interval (1.2901330772324622, 3.869233489242792)\n",
      "Writing estimation2.pdf\n",
      "Writing estimation2.png\n",
      "10 0.8967179115445979\n",
      "standard error 0.21111857936643746\n",
      "confidence interval (1.717943226895032, 2.3887031376972865)\n",
      "Writing estimation2.pdf\n",
      "Writing estimation2.png\n",
      "100 0.21111857936643746\n",
      "standard error 0.061559751282795346\n",
      "confidence interval (1.9023814501496725, 2.107175508049055)\n",
      "Writing estimation2.pdf\n",
      "Writing estimation2.png\n",
      "1000 0.061559751282795346\n",
      "Experiment 4\n",
      "rmse L 1.4133966180800066\n",
      "mean error L -0.000396\n"
     ]
    },
    {
     "data": {
      "image/png": "[encoded data removed]",
      "text/plain": [
       "<Figure size 576x432 with 1 Axes>"
      ]
     },
     "metadata": {
      "needs_background": "light"
     },
     "output_type": "display_data"
    },
    {
     "data": {
      "text/plain": [
       "<Figure size 576x432 with 0 Axes>"
      ]
     },
     "metadata": {},
     "output_type": "display_data"
    }
   ],
   "source": [
    "%run chap08soln.py"
   ]
  },
  {
   "cell_type": "code",
   "execution_count": null,
   "metadata": {},
   "outputs": [],
   "source": []
  }
 ],
 "metadata": {
  "kernelspec": {
   "display_name": "Python 3",
   "language": "python",
   "name": "python3"
  },
  "language_info": {
   "codemirror_mode": {
    "name": "ipython",
    "version": 3
   },
   "file_extension": ".py",
   "mimetype": "text/x-python",
   "name": "python",
   "nbconvert_exporter": "python",
   "pygments_lexer": "ipython3",
   "version": "3.8.5"
  }
 },
 "nbformat": 4,
 "nbformat_minor": 4
}

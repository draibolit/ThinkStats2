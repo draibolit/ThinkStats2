{
 "cells": [
  {
   "cell_type": "code",
   "execution_count": 1,
   "metadata": {},
   "outputs": [],
   "source": [
    "import numpy as np\n",
    "import seaborn as sns"
   ]
  },
  {
   "cell_type": "code",
   "execution_count": 7,
   "metadata": {},
   "outputs": [],
   "source": [
    "n = np.random.normal(0, 1, 1000)"
   ]
  },
  {
   "cell_type": "code",
   "execution_count": 9,
   "metadata": {},
   "outputs": [
    {
     "name": "stderr",
     "output_type": "stream",
     "text": [
      "<ipython-input-9-07ef2002e2ad>:1: RuntimeWarning: invalid value encountered in log\n",
      "  sns.displot(np.log(n))\n"
     ]
    },
    {
     "data": {
      "text/plain": [
       "<seaborn.axisgrid.FacetGrid at 0x7fbb7d1d4e20>"
      ]
     },
     "execution_count": 9,
     "metadata": {},
     "output_type": "execute_result"
    },
    {
     "data": {
      "image/png": "[encoded data removed]",
      "text/plain": [
       "<Figure size 360x360 with 1 Axes>"
      ]
     },
     "metadata": {
      "needs_background": "light"
     },
     "output_type": "display_data"
    }
   ],
   "source": [
    "sns.displot(np.log(n))"
   ]
  },
  {
   "cell_type": "code",
   "execution_count": 10,
   "metadata": {},
   "outputs": [
    {
     "data": {
      "text/plain": [
       "\u001b[0;31mSignature:\u001b[0m \u001b[0mnp\u001b[0m\u001b[0;34m.\u001b[0m\u001b[0mdigitize\u001b[0m\u001b[0;34m(\u001b[0m\u001b[0mx\u001b[0m\u001b[0;34m,\u001b[0m \u001b[0mbins\u001b[0m\u001b[0;34m,\u001b[0m \u001b[0mright\u001b[0m\u001b[0;34m=\u001b[0m\u001b[0;32mFalse\u001b[0m\u001b[0;34m)\u001b[0m\u001b[0;34m\u001b[0m\u001b[0;34m\u001b[0m\u001b[0m\n",
       "\u001b[0;31mDocstring:\u001b[0m\n",
       "Return the indices of the bins to which each value in input array belongs.\n",
       "\n",
       "=========  =============  ============================\n",
       "`right`    order of bins  returned index `i` satisfies\n",
       "=========  =============  ============================\n",
       "``False``  increasing     ``bins[i-1] <= x < bins[i]``\n",
       "``True``   increasing     ``bins[i-1] < x <= bins[i]``\n",
       "``False``  decreasing     ``bins[i-1] > x >= bins[i]``\n",
       "``True``   decreasing     ``bins[i-1] >= x > bins[i]``\n",
       "=========  =============  ============================\n",
       "\n",
       "If values in `x` are beyond the bounds of `bins`, 0 or ``len(bins)`` is\n",
       "returned as appropriate.\n",
       "\n",
       "Parameters\n",
       "----------\n",
       "x : array_like\n",
       "    Input array to be binned. Prior to NumPy 1.10.0, this array had to\n",
       "    be 1-dimensional, but can now have any shape.\n",
       "bins : array_like\n",
       "    Array of bins. It has to be 1-dimensional and monotonic.\n",
       "right : bool, optional\n",
       "    Indicating whether the intervals include the right or the left bin\n",
       "    edge. Default behavior is (right==False) indicating that the interval\n",
       "    does not include the right edge. The left bin end is open in this\n",
       "    case, i.e., bins[i-1] <= x < bins[i] is the default behavior for\n",
       "    monotonically increasing bins.\n",
       "\n",
       "Returns\n",
       "-------\n",
       "indices : ndarray of ints\n",
       "    Output array of indices, of same shape as `x`.\n",
       "\n",
       "Raises\n",
       "------\n",
       "ValueError\n",
       "    If `bins` is not monotonic.\n",
       "TypeError\n",
       "    If the type of the input is complex.\n",
       "\n",
       "See Also\n",
       "--------\n",
       "bincount, histogram, unique, searchsorted\n",
       "\n",
       "Notes\n",
       "-----\n",
       "If values in `x` are such that they fall outside the bin range,\n",
       "attempting to index `bins` with the indices that `digitize` returns\n",
       "will result in an IndexError.\n",
       "\n",
       ".. versionadded:: 1.10.0\n",
       "\n",
       "`np.digitize` is  implemented in terms of `np.searchsorted`. This means\n",
       "that a binary search is used to bin the values, which scales much better\n",
       "for larger number of bins than the previous linear search. It also removes\n",
       "the requirement for the input array to be 1-dimensional.\n",
       "\n",
       "For monotonically _increasing_ `bins`, the following are equivalent::\n",
       "\n",
       "    np.digitize(x, bins, right=True)\n",
       "    np.searchsorted(bins, x, side='left')\n",
       "\n",
       "Note that as the order of the arguments are reversed, the side must be too.\n",
       "The `searchsorted` call is marginally faster, as it does not do any\n",
       "monotonicity checks. Perhaps more importantly, it supports all dtypes.\n",
       "\n",
       "Examples\n",
       "--------\n",
       ">>> x = np.array([0.2, 6.4, 3.0, 1.6])\n",
       ">>> bins = np.array([0.0, 1.0, 2.5, 4.0, 10.0])\n",
       ">>> inds = np.digitize(x, bins)\n",
       ">>> inds\n",
       "array([1, 4, 3, 2])\n",
       ">>> for n in range(x.size):\n",
       "...   print(bins[inds[n]-1], \"<=\", x[n], \"<\", bins[inds[n]])\n",
       "...\n",
       "0.0 <= 0.2 < 1.0\n",
       "4.0 <= 6.4 < 10.0\n",
       "2.5 <= 3.0 < 4.0\n",
       "1.0 <= 1.6 < 2.5\n",
       "\n",
       ">>> x = np.array([1.2, 10.0, 12.4, 15.5, 20.])\n",
       ">>> bins = np.array([0, 5, 10, 15, 20])\n",
       ">>> np.digitize(x,bins,right=True)\n",
       "array([1, 2, 3, 4, 4])\n",
       ">>> np.digitize(x,bins,right=False)\n",
       "array([1, 3, 3, 4, 5])\n",
       "\u001b[0;31mFile:\u001b[0m      /mnt/linuxdisk/localdev/ThinkStats2/jupyterlab/lib/python3.8/site-packages/numpy/lib/function_base.py\n",
       "\u001b[0;31mType:\u001b[0m      function\n"
      ]
     },
     "metadata": {},
     "output_type": "display_data"
    }
   ],
   "source": [
    "np.digitize?"
   ]
  },
  {
   "cell_type": "code",
   "execution_count": null,
   "metadata": {},
   "outputs": [],
   "source": []
  }
 ],
 "metadata": {
  "kernelspec": {
   "display_name": "Python 3",
   "language": "python",
   "name": "python3"
  },
  "language_info": {
   "codemirror_mode": {
    "name": "ipython",
    "version": 3
   },
   "file_extension": ".py",
   "mimetype": "text/x-python",
   "name": "python",
   "nbconvert_exporter": "python",
   "pygments_lexer": "ipython3",
   "version": "3.8.5"
  }
 },
 "nbformat": 4,
 "nbformat_minor": 4
}

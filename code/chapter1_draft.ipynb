{
 "cells": [
  {
   "cell_type": "code",
   "execution_count": 3,
   "metadata": {},
   "outputs": [],
   "source": [
    "import numpy as np\n",
    "import seaborn as sns\n",
    "import nsfg"
   ]
  },
  {
   "cell_type": "code",
   "execution_count": 4,
   "metadata": {},
   "outputs": [],
   "source": [
    "df = nsfg.ReadFemPreg()\n",
    "nsfg.CleanFemPreg(df)"
   ]
  },
  {
   "cell_type": "code",
   "execution_count": 12,
   "metadata": {},
   "outputs": [
    {
     "data": {
      "text/plain": [
       "(1    9148\n",
       " 2    1862\n",
       " 3     120\n",
       " 4    1921\n",
       " 5     190\n",
       " 6     352\n",
       " Name: outcome, dtype: int64,\n",
       " <seaborn.axisgrid.FacetGrid at 0x7f1a52a86f40>)"
      ]
     },
     "execution_count": 12,
     "metadata": {},
     "output_type": "execute_result"
    },
    {
     "data": {
      "image/png": "[encoded data removed]",
      "text/plain": [
       "<Figure size 360x360 with 1 Axes>"
      ]
     },
     "metadata": {
      "needs_background": "light"
     },
     "output_type": "display_data"
    }
   ],
   "source": [
    "df.outcome.value_counts().sort_index(), sns.displot(df.outcome)"
   ]
  },
  {
   "cell_type": "code",
   "execution_count": 11,
   "metadata": {},
   "outputs": [
    {
     "data": {
      "text/plain": [
       "pandas.core.series.Series"
      ]
     },
     "execution_count": 11,
     "metadata": {},
     "output_type": "execute_result"
    }
   ],
   "source": [
    "type(df.outcome.value_counts())"
   ]
  },
  {
   "cell_type": "code",
   "execution_count": 13,
   "metadata": {},
   "outputs": [],
   "source": [
    "# Transform to kg\n",
    "df['birth_wgt_kg'] = df['birthwgt_lb'] * 0.453592"
   ]
  },
  {
   "cell_type": "code",
   "execution_count": 19,
   "metadata": {},
   "outputs": [
    {
     "data": {
      "text/plain": [
       "(0        3.628736\n",
       " 1        3.175144\n",
       " 2        4.082328\n",
       " 3        3.175144\n",
       " 4        2.721552\n",
       "            ...   \n",
       " 13588    2.721552\n",
       " 13589         NaN\n",
       " 13590         NaN\n",
       " 13591    3.175144\n",
       " 13592    3.175144\n",
       " Name: birth_wgt_kg, Length: 13593, dtype: float64,\n",
       " <seaborn.axisgrid.FacetGrid at 0x7f1a5362fd00>)"
      ]
     },
     "execution_count": 19,
     "metadata": {},
     "output_type": "execute_result"
    },
    {
     "data": {
      "image/png": "[encoded data removed]",
      "text/plain": [
       "<Figure size 360x360 with 1 Axes>"
      ]
     },
     "metadata": {
      "needs_background": "light"
     },
     "output_type": "display_data"
    }
   ],
   "source": [
    "df['birth_wgt_kg'], sns.displot(df['birth_wgt_kg'])"
   ]
  },
  {
   "cell_type": "code",
   "execution_count": 18,
   "metadata": {},
   "outputs": [
    {
     "data": {
      "text/plain": [
       "0        8.0\n",
       "1        7.0\n",
       "2        9.0\n",
       "3        7.0\n",
       "4        6.0\n",
       "        ... \n",
       "13588    6.0\n",
       "13589    NaN\n",
       "13590    NaN\n",
       "13591    7.0\n",
       "13592    7.0\n",
       "Name: birthwgt_lb, Length: 13593, dtype: float64"
      ]
     },
     "execution_count": 18,
     "metadata": {},
     "output_type": "execute_result"
    }
   ],
   "source": [
    "df['birthwgt_lb']"
   ]
  },
  {
   "cell_type": "code",
   "execution_count": null,
   "metadata": {},
   "outputs": [],
   "source": []
  }
 ],
 "metadata": {
  "kernelspec": {
   "display_name": "Python 3",
   "language": "python",
   "name": "python3"
  },
  "language_info": {
   "codemirror_mode": {
    "name": "ipython",
    "version": 3
   },
   "file_extension": ".py",
   "mimetype": "text/x-python",
   "name": "python",
   "nbconvert_exporter": "python",
   "pygments_lexer": "ipython3",
   "version": "3.8.5"
  }
 },
 "nbformat": 4,
 "nbformat_minor": 4
}

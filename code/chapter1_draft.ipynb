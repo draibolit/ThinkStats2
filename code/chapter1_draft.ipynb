{
 "cells": [
  {
   "cell_type": "code",
   "execution_count": 1,
   "metadata": {},
   "outputs": [],
   "source": [
    "import numpy as np\n",
    "import seaborn as sns\n",
    "import nsfg"
   ]
  },
  {
   "cell_type": "code",
   "execution_count": 2,
   "metadata": {},
   "outputs": [],
   "source": [
    "df = nsfg.ReadFemPreg()\n",
    "nsfg.CleanFemPreg(df)"
   ]
  },
  {
   "cell_type": "code",
   "execution_count": 3,
   "metadata": {},
   "outputs": [
    {
     "data": {
      "text/plain": [
       "(1    9148\n",
       " 2    1862\n",
       " 3     120\n",
       " 4    1921\n",
       " 5     190\n",
       " 6     352\n",
       " Name: outcome, dtype: int64,\n",
       " <seaborn.axisgrid.FacetGrid at 0x7fab39d8a7f0>)"
      ]
     },
     "execution_count": 3,
     "metadata": {},
     "output_type": "execute_result"
    },
    {
     "data": {
      "image/png": "[encoded data removed]",
      "text/plain": [
       "<Figure size 360x360 with 1 Axes>"
      ]
     },
     "metadata": {
      "needs_background": "light"
     },
     "output_type": "display_data"
    }
   ],
   "source": [
    "df.outcome.value_counts().sort_index(), sns.displot(df.outcome)"
   ]
  },
  {
   "cell_type": "code",
   "execution_count": 4,
   "metadata": {},
   "outputs": [
    {
     "data": {
      "text/plain": [
       "pandas.core.series.Series"
      ]
     },
     "execution_count": 4,
     "metadata": {},
     "output_type": "execute_result"
    }
   ],
   "source": [
    "type(df.outcome.value_counts())"
   ]
  },
  {
   "cell_type": "code",
   "execution_count": 5,
   "metadata": {},
   "outputs": [],
   "source": [
    "# Transform to kg\n",
    "df['birth_wgt_kg'] = df['birthwgt_lb'] * 0.453592"
   ]
  },
  {
   "cell_type": "code",
   "execution_count": 6,
   "metadata": {},
   "outputs": [
    {
     "data": {
      "text/plain": [
       "(0        3.628736\n",
       " 1        3.175144\n",
       " 2        4.082328\n",
       " 3        3.175144\n",
       " 4        2.721552\n",
       "            ...   \n",
       " 13588    2.721552\n",
       " 13589         NaN\n",
       " 13590         NaN\n",
       " 13591    3.175144\n",
       " 13592    3.175144\n",
       " Name: birth_wgt_kg, Length: 13593, dtype: float64,\n",
       " <seaborn.axisgrid.FacetGrid at 0x7fab39cc9a90>)"
      ]
     },
     "execution_count": 6,
     "metadata": {},
     "output_type": "execute_result"
    },
    {
     "data": {
      "image/png": "[encoded data removed]",
      "text/plain": [
       "<Figure size 360x360 with 1 Axes>"
      ]
     },
     "metadata": {
      "needs_background": "light"
     },
     "output_type": "display_data"
    }
   ],
   "source": [
    "df['birth_wgt_kg'], sns.displot(df['birth_wgt_kg'])"
   ]
  },
  {
   "cell_type": "code",
   "execution_count": 7,
   "metadata": {},
   "outputs": [
    {
     "data": {
      "text/plain": [
       "0        8.0\n",
       "1        7.0\n",
       "2        9.0\n",
       "3        7.0\n",
       "4        6.0\n",
       "        ... \n",
       "13588    6.0\n",
       "13589    NaN\n",
       "13590    NaN\n",
       "13591    7.0\n",
       "13592    7.0\n",
       "Name: birthwgt_lb, Length: 13593, dtype: float64"
      ]
     },
     "execution_count": 7,
     "metadata": {},
     "output_type": "execute_result"
    }
   ],
   "source": [
    "df['birthwgt_lb']"
   ]
  },
  {
   "cell_type": "code",
   "execution_count": 8,
   "metadata": {},
   "outputs": [
    {
     "data": {
      "text/plain": [
       "Index(['caseid', 'pregordr', 'howpreg_n', 'howpreg_p', 'moscurrp', 'nowprgdk',\n",
       "       'pregend1', 'pregend2', 'nbrnaliv', 'multbrth',\n",
       "       ...\n",
       "       'religion_i', 'metro_i', 'basewgt', 'adj_mod_basewgt', 'finalwgt',\n",
       "       'secu_p', 'sest', 'cmintvw', 'totalwgt_lb', 'birth_wgt_kg'],\n",
       "      dtype='object', length=245)"
      ]
     },
     "execution_count": 8,
     "metadata": {},
     "output_type": "execute_result"
    }
   ],
   "source": [
    "\n",
    "df.columns"
   ]
  },
  {
   "cell_type": "code",
   "execution_count": 9,
   "metadata": {},
   "outputs": [
    {
     "data": {
      "text/plain": [
       "0        39\n",
       "1        39\n",
       "2        39\n",
       "3        39\n",
       "4        39\n",
       "         ..\n",
       "13588    39\n",
       "13589     6\n",
       "13590     5\n",
       "13591    39\n",
       "13592    39\n",
       "Name: prglngth, Length: 13593, dtype: int64"
      ]
     },
     "execution_count": 9,
     "metadata": {},
     "output_type": "execute_result"
    }
   ],
   "source": [
    "# int duration of preganancy in weeks\n",
    "df.prglngth"
   ]
  },
  {
   "cell_type": "code",
   "execution_count": 10,
   "metadata": {},
   "outputs": [
    {
     "data": {
      "text/plain": [
       "(count    13593.000000\n",
       " mean        29.531229\n",
       " std         13.802523\n",
       " min          0.000000\n",
       " 25%         13.000000\n",
       " 50%         39.000000\n",
       " 75%         39.000000\n",
       " max         50.000000\n",
       " Name: prglngth, dtype: float64,\n",
       " <seaborn.axisgrid.FacetGrid at 0x7fab39ca6370>)"
      ]
     },
     "execution_count": 10,
     "metadata": {},
     "output_type": "execute_result"
    },
    {
     "data": {
      "image/png": "[encoded data removed]",
      "text/plain": [
       "<Figure size 360x360 with 1 Axes>"
      ]
     },
     "metadata": {
      "needs_background": "light"
     },
     "output_type": "display_data"
    }
   ],
   "source": [
    "df['prglngth'].describe(), sns.displot(df['prglngth'])"
   ]
  },
  {
   "cell_type": "code",
   "execution_count": 13,
   "metadata": {},
   "outputs": [],
   "source": [
    "pregmap = nsfg.MakePregMap(df)\n",
    "caseid = df['caseid'].values"
   ]
  },
  {
   "cell_type": "code",
   "execution_count": 16,
   "metadata": {},
   "outputs": [],
   "source": [
    "# find the pregnancy length of the first one\n",
    "firstbabies_status = []\n",
    "first_idxes = []\n",
    "for id in caseid:\n",
    "    ix = pregmap[id][0]\n",
    "    first_idxes.append(ix)\n",
    "    \n",
    "# make unique idx\n",
    "first_idxes = list(set(first_idxes))\n"
   ]
  },
  {
   "cell_type": "code",
   "execution_count": 29,
   "metadata": {},
   "outputs": [
    {
     "data": {
      "text/plain": [
       "<AxesSubplot:xlabel='prglngth', ylabel='Count'>"
      ]
     },
     "execution_count": 29,
     "metadata": {},
     "output_type": "execute_result"
    },
    {
     "data": {
      "image/png": "[encoded data removed]",
      "text/plain": [
       "<Figure size 432x288 with 1 Axes>"
      ]
     },
     "metadata": {
      "needs_background": "light"
     },
     "output_type": "display_data"
    }
   ],
   "source": [
    "prglngth_first_birth_all = df.iloc[first_idxes,:]['prglngth']\n",
    "sns.histplot(prglngth_first_birth_all)"
   ]
  },
  {
   "cell_type": "code",
   "execution_count": 35,
   "metadata": {},
   "outputs": [
    {
     "name": "stderr",
     "output_type": "stream",
     "text": [
      "<ipython-input-35-b8b0bba52c58>:1: UserWarning: Boolean Series key will be reindexed to match DataFrame index.\n",
      "  prglngth_first_birth_live = df.iloc[first_idxes,:][df['outcome'] == 1]['prglngth']\n"
     ]
    },
    {
     "data": {
      "text/plain": [
       "<AxesSubplot:xlabel='prglngth', ylabel='Count'>"
      ]
     },
     "execution_count": 35,
     "metadata": {},
     "output_type": "execute_result"
    },
    {
     "data": {
      "image/png": "[encoded data removed]",
      "text/plain": [
       "<Figure size 432x288 with 1 Axes>"
      ]
     },
     "metadata": {
      "needs_background": "light"
     },
     "output_type": "display_data"
    }
   ],
   "source": [
    "prglngth_first_birth_live = df.iloc[first_idxes,:][df['outcome'] == 1]['prglngth']\n",
    "sns.histplot(prglngth_first_birth_live)"
   ]
  },
  {
   "cell_type": "code",
   "execution_count": null,
   "metadata": {},
   "outputs": [],
   "source": []
  }
 ],
 "metadata": {
  "kernelspec": {
   "display_name": "Python 3",
   "language": "python",
   "name": "python3"
  },
  "language_info": {
   "codemirror_mode": {
    "name": "ipython",
    "version": 3
   },
   "file_extension": ".py",
   "mimetype": "text/x-python",
   "name": "python",
   "nbconvert_exporter": "python",
   "pygments_lexer": "ipython3",
   "version": "3.8.5"
  }
 },
 "nbformat": 4,
 "nbformat_minor": 4
}
